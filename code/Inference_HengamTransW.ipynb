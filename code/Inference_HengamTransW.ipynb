{
 "cells": [
  {
   "cell_type": "markdown",
   "metadata": {
    "id": "8wYfViVSz2s-",
    "pycharm": {
     "name": "#%% md\n"
    }
   },
   "source": [
    "# Inference HengamTransW"
   ]
  },
  {
   "cell_type": "markdown",
   "source": [
    "### Install Libraries"
   ],
   "metadata": {
    "id": "-N7ucULGvmmr",
    "pycharm": {
     "name": "#%% md\n"
    }
   }
  },
  {
   "cell_type": "code",
   "source": [
    "! pip install -q pytorch-lightning==1.5.10\n",
    "! pip install -q pytorch-crf==0.7.2\n",
    "! pip install -q transformers==4.16.2\n",
    "! pip install -q seqeval==1.2.2\n",
    "! pip install -q gdown --upgrade\n",
    "! pip install -q tqdm==4.62.3"
   ],
   "metadata": {
    "id": "BNHgwVzavlU_",
    "pycharm": {
     "name": "#%%\n"
    }
   },
   "execution_count": null,
   "outputs": []
  },
  {
   "cell_type": "markdown",
   "source": [
    "### Prepare folder and files"
   ],
   "metadata": {
    "id": "H8Yqs7-OVbnn",
    "pycharm": {
     "name": "#%% md\n"
    }
   }
  },
  {
   "cell_type": "code",
   "source": [
    "# Download HengamTransW\n",
    "! wget https://huggingface.co/kargaranamir/Hengam/resolve/main/HengamTransW.pth"
   ],
   "metadata": {
    "id": "tao2RVmZERSO",
    "pycharm": {
     "name": "#%%\n"
    }
   },
   "execution_count": null,
   "outputs": []
  },
  {
   "cell_type": "markdown",
   "metadata": {
    "id": "tmK6V-wGzx7R",
    "pycharm": {
     "name": "#%% md\n"
    }
   },
   "source": [
    "### Paths and Parameters"
   ]
  },
  {
   "cell_type": "code",
   "execution_count": null,
   "metadata": {
    "id": "FqaswDc55pGu",
    "pycharm": {
     "name": "#%%\n"
    }
   },
   "outputs": [],
   "source": [
    "TAGS_TABLE = ['B-TIM', 'I-TIM', 'B-DAT', 'I-DAT', 'O'] # Create Tag table\n",
    "MODEL_NAME = 'HengamTransW.pth'"
   ]
  },
  {
   "cell_type": "markdown",
   "metadata": {
    "id": "FiFCEopXNmRp",
    "pycharm": {
     "name": "#%% md\n"
    }
   },
   "source": [
    "### Import Libraries"
   ]
  },
  {
   "cell_type": "code",
   "execution_count": null,
   "metadata": {
    "id": "l35D2afgGuxg",
    "pycharm": {
     "name": "#%%\n"
    }
   },
   "outputs": [],
   "source": [
    "# import primitive libraries\n",
    "import os\n",
    "import pandas as pd\n",
    "from tqdm import tqdm\n",
    "import numpy as np\n",
    "import json\n",
    "\n",
    "# import seqval to report classifier performance metrics\n",
    "from seqeval.metrics import accuracy_score, precision_score, recall_score, f1_score\n",
    "from seqeval.scheme import IOB2\n",
    "\n",
    "# import torch related modules\n",
    "import torch\n",
    "from torch.utils.data import DataLoader\n",
    "from torch.utils.data import Dataset\n",
    "from torch.nn.utils.rnn import pad_sequence\n",
    "import torch.nn as nn\n",
    "\n",
    "# import pytorch lightning library\n",
    "import pytorch_lightning as pl\n",
    "from torchcrf import CRF as SUPERCRF\n",
    "\n",
    "# import NLTK to create better tokenizer\n",
    "import nltk\n",
    "from nltk.tokenize import RegexpTokenizer\n",
    "\n",
    "# Transformers : Roberta Model\n",
    "from transformers import XLMRobertaTokenizerFast\n",
    "from transformers import XLMRobertaModel, XLMRobertaConfig\n",
    "\n",
    "# import sklearn inorder to split data into train-evaluation-test\n",
    "from sklearn.model_selection import train_test_split\n",
    "\n",
    "# import Typings\n",
    "from typing import Union,Dict,List,Tuple,Any,Optional\n",
    "\n",
    "import glob"
   ]
  },
  {
   "cell_type": "code",
   "execution_count": null,
   "metadata": {
    "colab": {
     "base_uri": "https://localhost:8080/"
    },
    "id": "SJujx4BAUcdY",
    "outputId": "42bd97db-1044-4dd1-ec0a-03ac35bf3461",
    "pycharm": {
     "name": "#%%\n"
    }
   },
   "outputs": [
    {
     "output_type": "stream",
     "name": "stderr",
     "text": [
      "[nltk_data] Downloading package punkt to /root/nltk_data...\n",
      "[nltk_data]   Unzipping tokenizers/punkt.zip.\n"
     ]
    },
    {
     "output_type": "execute_result",
     "data": {
      "text/plain": [
       "True"
      ]
     },
     "metadata": {},
     "execution_count": 9
    }
   ],
   "source": [
    "# for sent tokenizer (nltk)\n",
    "nltk.download('punkt')"
   ]
  },
  {
   "cell_type": "markdown",
   "metadata": {
    "id": "V9ASUZ2n2aR2",
    "pycharm": {
     "name": "#%% md\n"
    }
   },
   "source": [
    "## XLM-Roberta "
   ]
  },
  {
   "cell_type": "markdown",
   "metadata": {
    "id": "bs5yGEFN2gHP",
    "pycharm": {
     "name": "#%% md\n"
    }
   },
   "source": [
    "### TokenFromSubtoken\n",
    "- Code adapted from the following [file](https://github.com/deepmipt/DeepPavlov/blob/master/deeppavlov/models/torch_bert/torch_transformers_sequence_tagger.py)\n",
    "- DeepPavlov is an popular open source library for deep learning end-to-end dialog systems and chatbots.\n",
    "- Licensed under the Apache License, Version 2.0 (the \"License\");\n"
   ]
  },
  {
   "cell_type": "code",
   "execution_count": null,
   "metadata": {
    "id": "MlP1uKJ9T8e4",
    "pycharm": {
     "name": "#%%\n"
    }
   },
   "outputs": [],
   "source": [
    "class TokenFromSubtoken(torch.nn.Module):\n",
    "\n",
    "    def forward(self, units: torch.Tensor, mask: torch.Tensor) -> torch.Tensor:\n",
    "        \"\"\" Assemble token level units from subtoken level units\n",
    "        Args:\n",
    "            units: torch.Tensor of shape [batch_size, SUBTOKEN_seq_length, n_features]\n",
    "            mask: mask of token beginnings. For example: for tokens\n",
    "                    [[``[CLS]`` ``My``, ``capybara``, ``[SEP]``],\n",
    "                    [``[CLS]`` ``Your``, ``aar``, ``##dvark``, ``is``, ``awesome``, ``[SEP]``]]\n",
    "                the mask will be\n",
    "                    [[0, 1, 1, 0, 0, 0, 0],\n",
    "                    [0, 1, 1, 0, 1, 1, 0]]\n",
    "        Returns:\n",
    "            word_level_units: Units assembled from ones in the mask. For the\n",
    "                example above this units will correspond to the following\n",
    "                    [[``My``, ``capybara``],\n",
    "                    [``Your`, ``aar``, ``is``, ``awesome``,]]\n",
    "                the shape of this tensor will be [batch_size, TOKEN_seq_length, n_features]\n",
    "        \"\"\"\n",
    "        \n",
    "        device = units.device\n",
    "        nf_int = units.size()[-1]\n",
    "        batch_size = units.size()[0]\n",
    "\n",
    "        # number of TOKENS in each sentence\n",
    "        token_seq_lengths = torch.sum(mask, 1).to(torch.int64)\n",
    "        # number of words\n",
    "        n_words = torch.sum(token_seq_lengths)\n",
    "        # max token seq len\n",
    "        max_token_seq_len = torch.max(token_seq_lengths)\n",
    "\n",
    "        idxs = torch.stack(torch.nonzero(mask, as_tuple=True), dim=1)\n",
    "        # padding is for computing change from one sample to another in the batch\n",
    "        sample_ids_in_batch = torch.nn.functional.pad(input=idxs[:, 0], pad=[1, 0])\n",
    "        \n",
    "        a = (~torch.eq(sample_ids_in_batch[1:], sample_ids_in_batch[:-1])).to(torch.int64)\n",
    "        \n",
    "        # transforming sample start masks to the sample starts themselves\n",
    "        q = a * torch.arange(n_words, device=device).to(torch.int64)\n",
    "        count_to_substract = torch.nn.functional.pad(torch.masked_select(q, q.to(torch.bool)), [1, 0])\n",
    "\n",
    "        new_word_indices = torch.arange(n_words, device=device).to(torch.int64) - count_to_substract[torch.cumsum(a, 0)]\n",
    "        \n",
    "        n_total_word_elements = max_token_seq_len*torch.ones_like(token_seq_lengths, device=device).sum()\n",
    "        word_indices_flat = (idxs[:, 0] * max_token_seq_len + new_word_indices).to(torch.int64)\n",
    "        #x_mask = torch.sum(torch.nn.functional.one_hot(word_indices_flat, n_total_word_elements), 0)\n",
    "        #x_mask = x_mask.to(torch.bool)\n",
    "        x_mask = torch.zeros(n_total_word_elements, dtype=torch.bool, device=device)\n",
    "        x_mask[word_indices_flat] = torch.ones_like(word_indices_flat, device=device, dtype=torch.bool)\n",
    "        # to get absolute indices we add max_token_seq_len:\n",
    "        # idxs[:, 0] * max_token_seq_len -> [0, 0, 0, 1, 1, 2] * 2 = [0, 0, 0, 3, 3, 6]\n",
    "        # word_indices_flat -> [0, 0, 0, 3, 3, 6] + [0, 1, 2, 0, 1, 0] = [0, 1, 2, 3, 4, 6]\n",
    "        # total number of words in the batch (including paddings)\n",
    "        # batch_size * max_token_seq_len -> 3 * 3 = 9\n",
    "        # tf.one_hot(...) ->\n",
    "        # [[1. 0. 0. 0. 0. 0. 0. 0. 0.]\n",
    "        #  [0. 1. 0. 0. 0. 0. 0. 0. 0.]\n",
    "        #  [0. 0. 1. 0. 0. 0. 0. 0. 0.]\n",
    "        #  [0. 0. 0. 1. 0. 0. 0. 0. 0.]\n",
    "        #  [0. 0. 0. 0. 1. 0. 0. 0. 0.]\n",
    "        #  [0. 0. 0. 0. 0. 0. 1. 0. 0.]]\n",
    "        #  x_mask -> [1, 1, 1, 1, 1, 0, 1, 0, 0]\n",
    "        nonword_indices_flat = (~x_mask).nonzero().squeeze(-1)\n",
    "\n",
    "        # get a sequence of units corresponding to the start subtokens of the words\n",
    "        # size: [n_words, n_features]\n",
    "        \n",
    "        elements = units[mask.bool()]\n",
    "\n",
    "        # prepare zeros for paddings\n",
    "        # size: [batch_size * TOKEN_seq_length - n_words, n_features]\n",
    "        paddings = torch.zeros_like(nonword_indices_flat, dtype=elements.dtype).unsqueeze(-1).repeat(1,nf_int).to(device)\n",
    "\n",
    "        # tensor_flat -> [x, x, x, x, x, 0, x, 0, 0]\n",
    "        tensor_flat_unordered = torch.cat([elements, paddings])\n",
    "        _, order_idx = torch.sort(torch.cat([word_indices_flat, nonword_indices_flat]))\n",
    "        tensor_flat = tensor_flat_unordered[order_idx]\n",
    "\n",
    "        tensor = torch.reshape(tensor_flat, (-1, max_token_seq_len, nf_int))\n",
    "        # tensor -> [[x, x, x],\n",
    "        #            [x, x, 0],\n",
    "        #            [x, 0, 0]]\n",
    "\n",
    "        return tensor\n"
   ]
  },
  {
   "cell_type": "markdown",
   "metadata": {
    "id": "m2We9RK24f29",
    "pycharm": {
     "name": "#%% md\n"
    }
   },
   "source": [
    "### Conditional Random Field \n",
    "- Code adopted form [torchcrf library](https://pytorch-crf.readthedocs.io/en/stable/)\n",
    "- we override veiterbi decoder in order to make it compatible with our code "
   ]
  },
  {
   "cell_type": "code",
   "execution_count": null,
   "metadata": {
    "id": "DjXultXaUj-t",
    "pycharm": {
     "name": "#%%\n"
    }
   },
   "outputs": [],
   "source": [
    "class CRF(SUPERCRF):\n",
    "\n",
    "    # override veiterbi decoder in order to make it compatible with our code \n",
    "    def _viterbi_decode(self, emissions: torch.FloatTensor,\n",
    "                        mask: torch.ByteTensor) -> List[List[int]]:\n",
    "        # emissions: (seq_length, batch_size, num_tags)\n",
    "        # mask: (seq_length, batch_size)\n",
    "        assert emissions.dim() == 3 and mask.dim() == 2\n",
    "        assert emissions.shape[:2] == mask.shape\n",
    "        assert emissions.size(2) == self.num_tags\n",
    "        assert mask[0].all()\n",
    "\n",
    "        seq_length, batch_size = mask.shape\n",
    "\n",
    "        # Start transition and first emission\n",
    "        # shape: (batch_size, num_tags)\n",
    "        score = self.start_transitions + emissions[0]\n",
    "        history = []\n",
    "\n",
    "        # score is a tensor of size (batch_size, num_tags) where for every batch,\n",
    "        # value at column j stores the score of the best tag sequence so far that ends\n",
    "        # with tag j\n",
    "        # history saves where the best tags candidate transitioned from; this is used\n",
    "        # when we trace back the best tag sequence\n",
    "\n",
    "        # Viterbi algorithm recursive case: we compute the score of the best tag sequence\n",
    "        # for every possible next tag\n",
    "        for i in range(1, seq_length):\n",
    "            # Broadcast viterbi score for every possible next tag\n",
    "            # shape: (batch_size, num_tags, 1)\n",
    "            broadcast_score = score.unsqueeze(2)\n",
    "\n",
    "            # Broadcast emission score for every possible current tag\n",
    "            # shape: (batch_size, 1, num_tags)\n",
    "            broadcast_emission = emissions[i].unsqueeze(1)\n",
    "\n",
    "            # Compute the score tensor of size (batch_size, num_tags, num_tags) where\n",
    "            # for each sample, entry at row i and column j stores the score of the best\n",
    "            # tag sequence so far that ends with transitioning from tag i to tag j and emitting\n",
    "            # shape: (batch_size, num_tags, num_tags)\n",
    "            next_score = broadcast_score + self.transitions + broadcast_emission\n",
    "\n",
    "            # Find the maximum score over all possible current tag\n",
    "            # shape: (batch_size, num_tags)\n",
    "            next_score, indices = next_score.max(dim=1)\n",
    "\n",
    "            # Set score to the next score if this timestep is valid (mask == 1)\n",
    "            # and save the index that produces the next score\n",
    "            # shape: (batch_size, num_tags)\n",
    "            score = torch.where(mask[i].unsqueeze(1), next_score, score)\n",
    "            history.append(indices)\n",
    "\n",
    "        history = torch.stack(history, dim=0)\n",
    "\n",
    "        # End transition score\n",
    "        # shape: (batch_size, num_tags)\n",
    "        score += self.end_transitions\n",
    "\n",
    "        # Now, compute the best path for each sample\n",
    "\n",
    "        # shape: (batch_size,)\n",
    "        seq_ends = mask.long().sum(dim=0) - 1\n",
    "        best_tags_list = []\n",
    "\n",
    "        for idx in range(batch_size):\n",
    "            # Find the tag which maximizes the score at the last timestep; this is our best tag\n",
    "            # for the last timestep\n",
    "            _, best_last_tag = score[idx].max(dim=0)\n",
    "            best_tags = [best_last_tag]\n",
    "\n",
    "            # We trace back where the best last tag comes from, append that to our best tag\n",
    "            # sequence, and trace it back again, and so on\n",
    "            for i, hist in enumerate(torch.flip(history[:seq_ends[idx]], dims=(0,))):\n",
    "                best_last_tag = hist[idx][best_tags[-1]]\n",
    "                best_tags.append(best_last_tag)\n",
    "\n",
    "            best_tags = torch.stack(best_tags, dim=0)\n",
    "\n",
    "            # Reverse the order because we start from the last timestep\n",
    "            best_tags_list.append(torch.flip(best_tags, dims=(0,)))\n",
    "\n",
    "        best_tags_list = nn.utils.rnn.pad_sequence(best_tags_list, batch_first=True, padding_value=0)\n",
    "\n",
    "        return best_tags_list"
   ]
  },
  {
   "cell_type": "markdown",
   "metadata": {
    "id": "1KdozEy46dT4",
    "pycharm": {
     "name": "#%% md\n"
    }
   },
   "source": [
    "### CRFLayer \n",
    "- Forward: decide output logits basaed on backbone network  \n",
    "- Decode: decode based on CRF weights"
   ]
  },
  {
   "cell_type": "code",
   "execution_count": null,
   "metadata": {
    "id": "JNBE1vxOUJCe",
    "pycharm": {
     "name": "#%%\n"
    }
   },
   "outputs": [],
   "source": [
    "class CRFLayer(nn.Module):\n",
    "    def __init__(self, embedding_size, n_labels):\n",
    "\n",
    "        super(CRFLayer, self).__init__()\n",
    "        self.dropout = nn.Dropout(0.1)\n",
    "        self.output_dense = nn.Linear(embedding_size,n_labels)\n",
    "        self.crf = CRF(n_labels, batch_first=True)\n",
    "        self.token_from_subtoken = TokenFromSubtoken()\n",
    "\n",
    "    # Forward: decide output logits basaed on backbone network  \n",
    "    def forward(self, embedding, mask):\n",
    "        logits = self.output_dense(self.dropout(embedding))\n",
    "        logits = self.token_from_subtoken(logits, mask)\n",
    "        pad_mask = self.token_from_subtoken(mask.unsqueeze(-1), mask).squeeze(-1).bool()\n",
    "        return logits, pad_mask\n",
    "\n",
    "    # Decode: decode based on CRF weights \n",
    "    def decode(self, logits, pad_mask):\n",
    "        return self.crf.decode(logits, pad_mask)\n",
    "\n",
    "    # Evaluation Loss: calculate mean log likelihood of CRF layer\n",
    "    def eval_loss(self, logits, targets, pad_mask):\n",
    "        mean_log_likelihood = self.crf(logits, targets, pad_mask, reduction='sum').mean()\n",
    "        return -mean_log_likelihood\n"
   ]
  },
  {
   "cell_type": "markdown",
   "metadata": {
    "id": "i5ma5bWa7LaS",
    "pycharm": {
     "name": "#%% md\n"
    }
   },
   "source": [
    "### NERModel\n",
    "- Roberta Model with CRF Layer"
   ]
  },
  {
   "cell_type": "code",
   "execution_count": null,
   "metadata": {
    "id": "VE7L4jPKTmPp",
    "pycharm": {
     "name": "#%%\n"
    }
   },
   "outputs": [],
   "source": [
    "class NERModel(nn.Module):\n",
    "\n",
    "    def __init__(self, n_labels:int, roberta_path:str):\n",
    "        super(NERModel,self).__init__()\n",
    "        self.roberta = XLMRobertaModel.from_pretrained(roberta_path)\n",
    "        self.crf = CRFLayer(self.roberta.config.hidden_size, n_labels)\n",
    "\n",
    "    # Forward: pass embedings to CRF layer in order to evaluate logits from suboword sequence\n",
    "    def forward(self, \n",
    "                input_ids:torch.Tensor,\n",
    "                attention_mask:torch.Tensor,\n",
    "                token_type_ids:torch.Tensor,\n",
    "                mask:torch.Tensor) -> torch.Tensor:\n",
    "\n",
    "        embedding = self.roberta(input_ids=input_ids,\n",
    "                                 attention_mask=attention_mask,\n",
    "                                 token_type_ids=token_type_ids)[0]\n",
    "        logits, pad_mask = self.crf(embedding, mask)\n",
    "        return logits, pad_mask\n",
    "\n",
    "    # Disable Gradient and Predict with model\n",
    "    @torch.no_grad()\n",
    "    def predict(self, inputs:Tuple[torch.Tensor]) -> torch.Tensor:\n",
    "        input_ids, attention_mask, token_type_ids, mask = inputs\n",
    "        logits, pad_mask = self(input_ids, attention_mask, token_type_ids, mask)\n",
    "        decoded = self.crf.decode(logits, pad_mask)\n",
    "        return decoded, pad_mask\n",
    "\n",
    "    # Decode: pass to crf decoder and decode based on CRF weights \n",
    "    def decode(self, logits, pad_mask):\n",
    "        \"\"\"Decode logits using CRF weights \n",
    "        \"\"\"\n",
    "        return self.crf.decode(logits, pad_mask) \n",
    "\n",
    "    # Evaluation Loss: pass to crf eval_loss and calculate mean log likelihood of CRF layer\n",
    "    def eval_loss(self, logits, targets, pad_mask):\n",
    "        return self.crf.eval_loss(logits, targets, pad_mask)\n",
    "\n",
    "    # Determine number of layers to be fine-tuned (!freeze) \n",
    "    def freeze_roberta(self, n_freeze:int=6):\n",
    "        for param in self.roberta.parameters():\n",
    "            param.requires_grad = False\n",
    "\n",
    "        for param in self.roberta.encoder.layer[n_freeze:].parameters():\n",
    "            param.requires_grad = True"
   ]
  },
  {
   "cell_type": "markdown",
   "metadata": {
    "id": "gBly2y20Kd_Q",
    "pycharm": {
     "name": "#%% md\n"
    }
   },
   "source": [
    "### NERTokenizer\n",
    "- NLTK tokenizer along with XLMRobertaTokenizerFast tokenizer\n",
    "- Code adapted from the following [file](https://github.com/ugurcanozalp/multilingual-ner/blob/main/multiner/utils/custom_tokenizer.py)"
   ]
  },
  {
   "cell_type": "code",
   "execution_count": null,
   "metadata": {
    "id": "FtYHE7bFSg0X",
    "pycharm": {
     "name": "#%%\n"
    }
   },
   "outputs": [],
   "source": [
    "class NERTokenizer(object):\n",
    "\n",
    "    MAX_LEN=512\n",
    "    BATCH_LENGTH_LIMT = 380 # Max number of roberta tokens in one sentence.\n",
    "\n",
    "    # Modified version of http://stackoverflow.com/questions/36353125/nltk-regular-expression-tokenizer\n",
    "    PATTERN = r'''(?x)          # set flag to allow verbose regexps\n",
    "        (?:[A-Z]\\.)+        # abbreviations, e.g. U.S.A. or U.S.A # \n",
    "        | (?:\\d+\\.)           # numbers\n",
    "        | \\w+(?:[-.]\\w+)*     # words with optional internal hyphens\n",
    "        | \\$?\\d+(?:.\\d+)?%?   # currency and percentages, e.g. $12.40, 82%\n",
    "        | \\.\\.\\.              # ellipsis, and special chars below, includes ], [\n",
    "        | [-\\]\\[.؟،؛;\"'?,():_`“”/°º‘’″…#$%()*+<>=@\\\\^_{}|~❑&§\\!]\n",
    "        | \\u200c\n",
    "    '''\n",
    "\n",
    "    def __init__(self, base_model:str, to_device:str='cpu'):\n",
    "        super(NERTokenizer,self).__init__()\n",
    "        self.roberta_tokenizer = XLMRobertaTokenizerFast.from_pretrained(base_model, do_lower_case=False, padding=True, truncation=True)\n",
    "        self.to_device = to_device\n",
    "\n",
    "        self.word_tokenizer = RegexpTokenizer(self.PATTERN)\n",
    "        self.sent_tokenizer = nltk.data.load('tokenizers/punkt/english.pickle')\n",
    "\n",
    "    # tokenize batch of tokens\n",
    "    def tokenize_batch(self, inputs, pad_to = None) -> torch.Tensor:\n",
    "        batch = [inputs] if isinstance(inputs[0], str) else inputs\n",
    "        \n",
    "        input_ids, attention_mask, token_type_ids, mask = [], [], [], []\n",
    "        for tokens in batch:\n",
    "            input_ids_tmp, attention_mask_tmp, token_type_ids_tmp, mask_tmp = self._tokenize_words(tokens)\n",
    "            input_ids.append(input_ids_tmp)\n",
    "            attention_mask.append(attention_mask_tmp)\n",
    "            token_type_ids.append(token_type_ids_tmp)\n",
    "            mask.append(mask_tmp)\n",
    "\n",
    "        input_ids = pad_sequence(input_ids, batch_first=True, padding_value=self.roberta_tokenizer.pad_token_id)\n",
    "        attention_mask = pad_sequence(attention_mask, batch_first=True, padding_value=0)\n",
    "        token_type_ids = pad_sequence(token_type_ids, batch_first=True, padding_value=0)\n",
    "        mask = pad_sequence(mask, batch_first=True, padding_value=0)\n",
    "        # truncate MAX_LEN\n",
    "        if input_ids.shape[-1]>self.MAX_LEN:\n",
    "            input_ids = input_ids[:,:,:self.MAX_LEN]\n",
    "            attention_mask = attention_mask[:,:,:self.MAX_LEN]\n",
    "            token_type_ids = token_type_ids[:,:,:self.MAX_LEN]\n",
    "            mask = mask[:,:,:self.MAX_LEN]\n",
    "        \n",
    "        # extend pad \n",
    "        elif pad_to is not None and pad_to>input_ids.shape[1]:\n",
    "            bs = input_ids.shape[0]\n",
    "            padlen = pad_to-input_ids.shape[1]\n",
    "\n",
    "            input_ids_append = torch.tensor([self.roberta_tokenizer.pad_token_id], dtype=torch.long).repeat([bs, padlen]).to(self.to_device)\n",
    "            input_ids = torch.cat([input_ids, input_ids_append], dim=-1)\n",
    "\n",
    "            attention_mask_append = torch.tensor([0], dtype=torch.long).repeat([bs, padlen]).to(self.to_device)\n",
    "            attention_mask = torch.cat([attention_mask, attention_mask_append], dim=-1)\n",
    "\n",
    "            token_type_ids_append = torch.tensor([0], dtype=torch.long).repeat([bs, padlen]).to(self.to_device)\n",
    "            token_type_ids = torch.cat([token_type_ids, token_type_ids_append], dim=-1)\n",
    "\n",
    "            mask_append = torch.tensor([0], dtype=torch.long).repeat([bs, padlen]).to(self.to_device)\n",
    "            mask = torch.cat([mask, mask_append], dim=-1)\n",
    "\n",
    "        # truncate pad\n",
    "        elif pad_to is not None and pad_to<input_ids.shape[1]:\n",
    "            input_ids = input_ids[:,:,:pad_to]\n",
    "            attention_mask = attention_mask[:,:,:pad_to]\n",
    "            token_type_ids = token_type_ids[:,:,:pad_to]\n",
    "            mask = mask[:,:,:pad_to]\n",
    "\n",
    "        if isinstance(inputs[0], str):\n",
    "            return input_ids[0], attention_mask[0], token_type_ids[0], mask[0]\n",
    "        else:\n",
    "            return input_ids, attention_mask, token_type_ids, mask\n",
    "\n",
    "    # tokenize list of words with roberta tokenizer\n",
    "    def _tokenize_words(self, words):\n",
    "        roberta_tokens = []\n",
    "        mask = []\n",
    "        for word in words:\n",
    "            subtokens = self.roberta_tokenizer.tokenize(word)\n",
    "            roberta_tokens+=subtokens\n",
    "            n_subtoken = len(subtokens)\n",
    "            if n_subtoken>=1:\n",
    "                mask = mask + [1] + [0]*(n_subtoken-1)\n",
    "\n",
    "        # add special tokens [CLS] and [SeP]\n",
    "        roberta_tokens = [self.roberta_tokenizer.cls_token] + roberta_tokens + [self.roberta_tokenizer.sep_token]\n",
    "        mask = [0] + mask + [0]\n",
    "        input_ids = torch.tensor(self.roberta_tokenizer.convert_tokens_to_ids(roberta_tokens), dtype=torch.long).to(self.to_device)\n",
    "        attention_mask = torch.ones(len(mask), dtype=torch.long).to(self.to_device)\n",
    "        token_type_ids = torch.zeros(len(mask), dtype=torch.long).to(self.to_device)\n",
    "        mask = torch.tensor(mask, dtype=torch.long).to(self.to_device)\n",
    "        return input_ids, attention_mask, token_type_ids, mask\n",
    "\n",
    "    # sent_to_token: yield each sentence token with positional span using nltk\n",
    "    def sent_to_token(self, raw_text):\n",
    "        for offset, ending in self.sent_tokenizer.span_tokenize(raw_text):\n",
    "            sub_text = raw_text[offset:ending]\n",
    "            words, spans = [], []\n",
    "            flush = False\n",
    "            total_subtoken = 0\n",
    "            for start, end in self.word_tokenizer.span_tokenize(sub_text):\n",
    "                flush = True\n",
    "                start += offset\n",
    "                end += offset\n",
    "                words.append(raw_text[start:end])\n",
    "                spans.append((start,end))\n",
    "                total_subtoken += len(self.roberta_tokenizer.tokenize(words[-1]))\n",
    "                if (total_subtoken > self.BATCH_LENGTH_LIMT): \n",
    "                    # Print\n",
    "                    yield words[:-1],spans[:-1]\n",
    "                    spans = spans[len(spans)-1:]\n",
    "                    words = words[len(words)-1:]\n",
    "                    total_subtoken = sum([len(self.roberta_tokenizer.tokenize(word)) for word in words])\n",
    "                    flush = False\n",
    "\n",
    "            if flush and len(spans) > 0:\n",
    "                yield words,spans\n",
    "\n",
    "    # Extract (batch words span() from a raw sentence\n",
    "    def prepare_row_text(self, raw_text, batch_size=16):\n",
    "        words_list, spans_list = [], []\n",
    "        end_batch = False\n",
    "        for words, spans in self.sent_to_token(raw_text):\n",
    "            end_batch = True\n",
    "            words_list.append(words)\n",
    "            spans_list.append(spans)\n",
    "            if len(spans_list) >= batch_size:\n",
    "                input_ids, attention_mask, token_type_ids, mask = self.tokenize_batch(words_list)\n",
    "                yield (input_ids, attention_mask, token_type_ids, mask), words_list, spans_list\n",
    "                words_list, spans_list = [], []\n",
    "        if end_batch and len(words_list) > 0:\n",
    "            input_ids, attention_mask, token_type_ids, mask = self.tokenize_batch(words_list)\n",
    "            yield (input_ids, attention_mask, token_type_ids, mask), words_list, spans_list\n"
   ]
  },
  {
   "cell_type": "markdown",
   "metadata": {
    "id": "JJQ8xMLaNUX_",
    "pycharm": {
     "name": "#%% md\n"
    }
   },
   "source": [
    "### NER\n",
    "NER Interface : We Use this interface to infer sentence Time-Date tags."
   ]
  },
  {
   "cell_type": "code",
   "execution_count": null,
   "metadata": {
    "id": "Q1UKVydicabm",
    "pycharm": {
     "name": "#%%\n"
    }
   },
   "outputs": [],
   "source": [
    "class NER(object):\n",
    "\n",
    "    def __init__(self, model_path, model_name = MODEL_NAME, tags = TAGS_TABLE):\n",
    "        \n",
    "        self.tags = tags\n",
    "        self.device = \"cuda\" if torch.cuda.is_available() else \"cpu\"\n",
    "        # Load Pre-Trained model\n",
    "        roberta_path = \"xlm-roberta-base\"\n",
    "        self.model = NERModel(n_labels=len(self.tags), roberta_path=roberta_path).to(self.device)\n",
    "        # Load Fine-Tuned model\n",
    "        state_dict = torch.load(os.path.join(model_path, model_name))\n",
    "        self.model.load_state_dict(state_dict, strict=False)\n",
    "        # Enable Evaluation mode\n",
    "        self.model.eval()\n",
    "        self.tokenizer = NERTokenizer(base_model=roberta_path, to_device=self.device)\n",
    "\n",
    "    # Predict and Pre/Post-Process the input/output\n",
    "    @torch.no_grad()\n",
    "    def __call__(self, raw_text):\n",
    "\n",
    "        outputs_flat, spans_flat, entities = [], [], []\n",
    "        for batch, words, spans in self.tokenizer.prepare_row_text(raw_text):\n",
    "            output, pad_mask = self.model.predict(batch)\n",
    "            outputs_flat.extend(output[pad_mask.bool()].reshape(-1).tolist())\n",
    "            spans_flat += sum(spans, [])\n",
    "\n",
    "        for tag_idx,(start,end) in zip(outputs_flat,spans_flat):\n",
    "            tag = self.tags[tag_idx]\n",
    "            # filter out O tags\n",
    "            if tag != 'O':\n",
    "                entities.append({'Text': raw_text[start:end], \n",
    "                                 'Tag': tag, \n",
    "                                 'Start':start,\n",
    "                                 'End': end})\n",
    "\n",
    "        return entities"
   ]
  },
  {
   "cell_type": "markdown",
   "metadata": {
    "id": "QmyhSl6qPPqV",
    "pycharm": {
     "name": "#%% md\n"
    }
   },
   "source": [
    "### Test HengamTransformer"
   ]
  },
  {
   "cell_type": "code",
   "execution_count": null,
   "metadata": {
    "id": "uGF0w7aIYHOX",
    "colab": {
     "base_uri": "https://localhost:8080/",
     "height": 219,
     "referenced_widgets": [
      "e0163b9e183349b0a5c10381e5efdfb8",
      "3817e8cf6cb64316b61f02e653620290",
      "18d7e043f5d3452898dc9eb2b124dcaf",
      "9108a7cf092f40ccb50d74e9a308f88f",
      "be1aa89213db476db928b307569efccc",
      "4624cf65df9c4295976ab776259059b9",
      "78f3140462b7458aa2fe9737f9a2fb51",
      "87151740d02444849e887e9bfc584e83",
      "6776b42139af4878b291ca5a78b68e9f",
      "ffb6b7a013954d398d526e79dcf6776c",
      "75be34549d34441bb8d9a5f1bb0cb381",
      "2a1f8dc85d8841f8b671c9b40fd6a1b5",
      "fe6ee9bf48b94bb89a94e1245556a247",
      "e613fd05ba294fe48ea9fafa32a5c76b",
      "81caf396cb2048f7a242a993b65dc844",
      "3e3ca4bf219f41c28e1eded747fbad0a",
      "41faf822bf8b4823a806f51bb5fdf693",
      "ec5db1de75244a98a64c45b94f26b41f",
      "c27d859227484dc4aa636603df898c67",
      "189068f661744f28aa7aa6dce1631da0",
      "164b173b21224566991a732737823476",
      "bbf450b549244c739d49550e098b1520",
      "64d7952233684bcab711468569c4eda3",
      "10bf9a2e2b314440bfe294ed36766408",
      "bd2d47cda2fe478ebd90240b24cfbfb4",
      "d25641d106d14d52ad95d4f1c4a71c20",
      "82dad16a0f5f4beb855aadc7046bf204",
      "851f7ef12bc04f5cbd64cc6793097c42",
      "3f05afc4420e40fd8c5dc092ca5a530a",
      "37b8fbad42b14904a8a27edb393a09c3",
      "fdbdea636a9343ba9225aa884685a121",
      "2b4bd47fcd20498aa53457ba28fbd1d9",
      "5636fb26ea5b4029bcf711669b3afd16",
      "77ec73d6a50a4628ac56fb531b6754bd",
      "58a42b62fc184b38bfb8f9d85af2bb82",
      "daeff519e14c486199efc3a05a4c4388",
      "7a3f2f4a5815461aac5459c4e173ccdf",
      "099ffafce0cc4268a805bf1df0a61196",
      "2bee4e32d65a41f4b462ebfaf9cc474d",
      "f86f2560adf6489e96a2345092c0e943",
      "630ef427c6df4a6199af59445fe3f4f9",
      "316746e1006442599ca50de401e3e82a",
      "df638c3f088d450a8c91888830c2e7bc",
      "f5827842c8ab4585ace3d425dee9fddf"
     ]
    },
    "outputId": "f53f6401-61c2-4a62-f653-ea1a61daab00",
    "pycharm": {
     "name": "#%%\n"
    }
   },
   "outputs": [
    {
     "output_type": "display_data",
     "data": {
      "text/plain": [
       "Downloading:   0%|          | 0.00/615 [00:00<?, ?B/s]"
      ],
      "application/vnd.jupyter.widget-view+json": {
       "version_major": 2,
       "version_minor": 0,
       "model_id": "e0163b9e183349b0a5c10381e5efdfb8"
      }
     },
     "metadata": {}
    },
    {
     "output_type": "display_data",
     "data": {
      "text/plain": [
       "Downloading:   0%|          | 0.00/1.04G [00:00<?, ?B/s]"
      ],
      "application/vnd.jupyter.widget-view+json": {
       "version_major": 2,
       "version_minor": 0,
       "model_id": "2a1f8dc85d8841f8b671c9b40fd6a1b5"
      }
     },
     "metadata": {}
    },
    {
     "output_type": "stream",
     "name": "stderr",
     "text": [
      "Some weights of the model checkpoint at xlm-roberta-base were not used when initializing XLMRobertaModel: ['lm_head.dense.weight', 'lm_head.decoder.weight', 'lm_head.dense.bias', 'lm_head.layer_norm.weight', 'lm_head.bias', 'lm_head.layer_norm.bias']\n",
      "- This IS expected if you are initializing XLMRobertaModel from the checkpoint of a model trained on another task or with another architecture (e.g. initializing a BertForSequenceClassification model from a BertForPreTraining model).\n",
      "- This IS NOT expected if you are initializing XLMRobertaModel from the checkpoint of a model that you expect to be exactly identical (initializing a BertForSequenceClassification model from a BertForSequenceClassification model).\n"
     ]
    },
    {
     "output_type": "display_data",
     "data": {
      "text/plain": [
       "Downloading:   0%|          | 0.00/4.83M [00:00<?, ?B/s]"
      ],
      "application/vnd.jupyter.widget-view+json": {
       "version_major": 2,
       "version_minor": 0,
       "model_id": "64d7952233684bcab711468569c4eda3"
      }
     },
     "metadata": {}
    },
    {
     "output_type": "display_data",
     "data": {
      "text/plain": [
       "Downloading:   0%|          | 0.00/8.68M [00:00<?, ?B/s]"
      ],
      "application/vnd.jupyter.widget-view+json": {
       "version_major": 2,
       "version_minor": 0,
       "model_id": "77ec73d6a50a4628ac56fb531b6754bd"
      }
     },
     "metadata": {}
    }
   ],
   "source": [
    "# Load pretrained model.\n",
    "ner = NER(model_path = '.', model_name = \"HengamTransW.pth\", tags = TAGS_TABLE)"
   ]
  },
  {
   "cell_type": "code",
   "source": [
    "ner(\"دوشنبه ها صبح به مدرسه می‌رویم.\")"
   ],
   "metadata": {
    "id": "s62VSZiND2pg",
    "colab": {
     "base_uri": "https://localhost:8080/"
    },
    "outputId": "a02490f4-b7d7-4429-c2fc-aa5756b0846c",
    "pycharm": {
     "name": "#%%\n"
    }
   },
   "execution_count": null,
   "outputs": [
    {
     "output_type": "execute_result",
     "data": {
      "text/plain": [
       "[{'End': 6, 'Start': 0, 'Tag': 'B-DAT', 'Text': 'دوشنبه'},\n",
       " {'End': 9, 'Start': 7, 'Tag': 'I-DAT', 'Text': 'ها'},\n",
       " {'End': 13, 'Start': 10, 'Tag': 'B-TIM', 'Text': 'صبح'}]"
      ]
     },
     "metadata": {},
     "execution_count": 17
    }
   ]
  }
 ],
 "metadata": {
  "colab": {
   "collapsed_sections": [],
   "provenance": [],
   "machine_shape": "hm"
  },
  "kernelspec": {
   "display_name": "Python 3",
   "language": "python",
   "name": "python3"
  },
  "language_info": {
   "codemirror_mode": {
    "name": "ipython",
    "version": 3
   },
   "file_extension": ".py",
   "mimetype": "text/x-python",
   "name": "python",
   "nbconvert_exporter": "python",
   "pygments_lexer": "ipython3",
   "version": "3.6.5"
  },
  "accelerator": "GPU",
  "gpuClass": "standard",
  "widgets": {
   "application/vnd.jupyter.widget-state+json": {
    "e0163b9e183349b0a5c10381e5efdfb8": {
     "model_module": "@jupyter-widgets/controls",
     "model_name": "HBoxModel",
     "model_module_version": "1.5.0",
     "state": {
      "_dom_classes": [],
      "_model_module": "@jupyter-widgets/controls",
      "_model_module_version": "1.5.0",
      "_model_name": "HBoxModel",
      "_view_count": null,
      "_view_module": "@jupyter-widgets/controls",
      "_view_module_version": "1.5.0",
      "_view_name": "HBoxView",
      "box_style": "",
      "children": [
       "IPY_MODEL_3817e8cf6cb64316b61f02e653620290",
       "IPY_MODEL_18d7e043f5d3452898dc9eb2b124dcaf",
       "IPY_MODEL_9108a7cf092f40ccb50d74e9a308f88f"
      ],
      "layout": "IPY_MODEL_be1aa89213db476db928b307569efccc"
     }
    },
    "3817e8cf6cb64316b61f02e653620290": {
     "model_module": "@jupyter-widgets/controls",
     "model_name": "HTMLModel",
     "model_module_version": "1.5.0",
     "state": {
      "_dom_classes": [],
      "_model_module": "@jupyter-widgets/controls",
      "_model_module_version": "1.5.0",
      "_model_name": "HTMLModel",
      "_view_count": null,
      "_view_module": "@jupyter-widgets/controls",
      "_view_module_version": "1.5.0",
      "_view_name": "HTMLView",
      "description": "",
      "description_tooltip": null,
      "layout": "IPY_MODEL_4624cf65df9c4295976ab776259059b9",
      "placeholder": "​",
      "style": "IPY_MODEL_78f3140462b7458aa2fe9737f9a2fb51",
      "value": "Downloading: 100%"
     }
    },
    "18d7e043f5d3452898dc9eb2b124dcaf": {
     "model_module": "@jupyter-widgets/controls",
     "model_name": "FloatProgressModel",
     "model_module_version": "1.5.0",
     "state": {
      "_dom_classes": [],
      "_model_module": "@jupyter-widgets/controls",
      "_model_module_version": "1.5.0",
      "_model_name": "FloatProgressModel",
      "_view_count": null,
      "_view_module": "@jupyter-widgets/controls",
      "_view_module_version": "1.5.0",
      "_view_name": "ProgressView",
      "bar_style": "success",
      "description": "",
      "description_tooltip": null,
      "layout": "IPY_MODEL_87151740d02444849e887e9bfc584e83",
      "max": 615,
      "min": 0,
      "orientation": "horizontal",
      "style": "IPY_MODEL_6776b42139af4878b291ca5a78b68e9f",
      "value": 615
     }
    },
    "9108a7cf092f40ccb50d74e9a308f88f": {
     "model_module": "@jupyter-widgets/controls",
     "model_name": "HTMLModel",
     "model_module_version": "1.5.0",
     "state": {
      "_dom_classes": [],
      "_model_module": "@jupyter-widgets/controls",
      "_model_module_version": "1.5.0",
      "_model_name": "HTMLModel",
      "_view_count": null,
      "_view_module": "@jupyter-widgets/controls",
      "_view_module_version": "1.5.0",
      "_view_name": "HTMLView",
      "description": "",
      "description_tooltip": null,
      "layout": "IPY_MODEL_ffb6b7a013954d398d526e79dcf6776c",
      "placeholder": "​",
      "style": "IPY_MODEL_75be34549d34441bb8d9a5f1bb0cb381",
      "value": " 615/615 [00:00&lt;00:00, 16.3kB/s]"
     }
    },
    "be1aa89213db476db928b307569efccc": {
     "model_module": "@jupyter-widgets/base",
     "model_name": "LayoutModel",
     "model_module_version": "1.2.0",
     "state": {
      "_model_module": "@jupyter-widgets/base",
      "_model_module_version": "1.2.0",
      "_model_name": "LayoutModel",
      "_view_count": null,
      "_view_module": "@jupyter-widgets/base",
      "_view_module_version": "1.2.0",
      "_view_name": "LayoutView",
      "align_content": null,
      "align_items": null,
      "align_self": null,
      "border": null,
      "bottom": null,
      "display": null,
      "flex": null,
      "flex_flow": null,
      "grid_area": null,
      "grid_auto_columns": null,
      "grid_auto_flow": null,
      "grid_auto_rows": null,
      "grid_column": null,
      "grid_gap": null,
      "grid_row": null,
      "grid_template_areas": null,
      "grid_template_columns": null,
      "grid_template_rows": null,
      "height": null,
      "justify_content": null,
      "justify_items": null,
      "left": null,
      "margin": null,
      "max_height": null,
      "max_width": null,
      "min_height": null,
      "min_width": null,
      "object_fit": null,
      "object_position": null,
      "order": null,
      "overflow": null,
      "overflow_x": null,
      "overflow_y": null,
      "padding": null,
      "right": null,
      "top": null,
      "visibility": null,
      "width": null
     }
    },
    "4624cf65df9c4295976ab776259059b9": {
     "model_module": "@jupyter-widgets/base",
     "model_name": "LayoutModel",
     "model_module_version": "1.2.0",
     "state": {
      "_model_module": "@jupyter-widgets/base",
      "_model_module_version": "1.2.0",
      "_model_name": "LayoutModel",
      "_view_count": null,
      "_view_module": "@jupyter-widgets/base",
      "_view_module_version": "1.2.0",
      "_view_name": "LayoutView",
      "align_content": null,
      "align_items": null,
      "align_self": null,
      "border": null,
      "bottom": null,
      "display": null,
      "flex": null,
      "flex_flow": null,
      "grid_area": null,
      "grid_auto_columns": null,
      "grid_auto_flow": null,
      "grid_auto_rows": null,
      "grid_column": null,
      "grid_gap": null,
      "grid_row": null,
      "grid_template_areas": null,
      "grid_template_columns": null,
      "grid_template_rows": null,
      "height": null,
      "justify_content": null,
      "justify_items": null,
      "left": null,
      "margin": null,
      "max_height": null,
      "max_width": null,
      "min_height": null,
      "min_width": null,
      "object_fit": null,
      "object_position": null,
      "order": null,
      "overflow": null,
      "overflow_x": null,
      "overflow_y": null,
      "padding": null,
      "right": null,
      "top": null,
      "visibility": null,
      "width": null
     }
    },
    "78f3140462b7458aa2fe9737f9a2fb51": {
     "model_module": "@jupyter-widgets/controls",
     "model_name": "DescriptionStyleModel",
     "model_module_version": "1.5.0",
     "state": {
      "_model_module": "@jupyter-widgets/controls",
      "_model_module_version": "1.5.0",
      "_model_name": "DescriptionStyleModel",
      "_view_count": null,
      "_view_module": "@jupyter-widgets/base",
      "_view_module_version": "1.2.0",
      "_view_name": "StyleView",
      "description_width": ""
     }
    },
    "87151740d02444849e887e9bfc584e83": {
     "model_module": "@jupyter-widgets/base",
     "model_name": "LayoutModel",
     "model_module_version": "1.2.0",
     "state": {
      "_model_module": "@jupyter-widgets/base",
      "_model_module_version": "1.2.0",
      "_model_name": "LayoutModel",
      "_view_count": null,
      "_view_module": "@jupyter-widgets/base",
      "_view_module_version": "1.2.0",
      "_view_name": "LayoutView",
      "align_content": null,
      "align_items": null,
      "align_self": null,
      "border": null,
      "bottom": null,
      "display": null,
      "flex": null,
      "flex_flow": null,
      "grid_area": null,
      "grid_auto_columns": null,
      "grid_auto_flow": null,
      "grid_auto_rows": null,
      "grid_column": null,
      "grid_gap": null,
      "grid_row": null,
      "grid_template_areas": null,
      "grid_template_columns": null,
      "grid_template_rows": null,
      "height": null,
      "justify_content": null,
      "justify_items": null,
      "left": null,
      "margin": null,
      "max_height": null,
      "max_width": null,
      "min_height": null,
      "min_width": null,
      "object_fit": null,
      "object_position": null,
      "order": null,
      "overflow": null,
      "overflow_x": null,
      "overflow_y": null,
      "padding": null,
      "right": null,
      "top": null,
      "visibility": null,
      "width": null
     }
    },
    "6776b42139af4878b291ca5a78b68e9f": {
     "model_module": "@jupyter-widgets/controls",
     "model_name": "ProgressStyleModel",
     "model_module_version": "1.5.0",
     "state": {
      "_model_module": "@jupyter-widgets/controls",
      "_model_module_version": "1.5.0",
      "_model_name": "ProgressStyleModel",
      "_view_count": null,
      "_view_module": "@jupyter-widgets/base",
      "_view_module_version": "1.2.0",
      "_view_name": "StyleView",
      "bar_color": null,
      "description_width": ""
     }
    },
    "ffb6b7a013954d398d526e79dcf6776c": {
     "model_module": "@jupyter-widgets/base",
     "model_name": "LayoutModel",
     "model_module_version": "1.2.0",
     "state": {
      "_model_module": "@jupyter-widgets/base",
      "_model_module_version": "1.2.0",
      "_model_name": "LayoutModel",
      "_view_count": null,
      "_view_module": "@jupyter-widgets/base",
      "_view_module_version": "1.2.0",
      "_view_name": "LayoutView",
      "align_content": null,
      "align_items": null,
      "align_self": null,
      "border": null,
      "bottom": null,
      "display": null,
      "flex": null,
      "flex_flow": null,
      "grid_area": null,
      "grid_auto_columns": null,
      "grid_auto_flow": null,
      "grid_auto_rows": null,
      "grid_column": null,
      "grid_gap": null,
      "grid_row": null,
      "grid_template_areas": null,
      "grid_template_columns": null,
      "grid_template_rows": null,
      "height": null,
      "justify_content": null,
      "justify_items": null,
      "left": null,
      "margin": null,
      "max_height": null,
      "max_width": null,
      "min_height": null,
      "min_width": null,
      "object_fit": null,
      "object_position": null,
      "order": null,
      "overflow": null,
      "overflow_x": null,
      "overflow_y": null,
      "padding": null,
      "right": null,
      "top": null,
      "visibility": null,
      "width": null
     }
    },
    "75be34549d34441bb8d9a5f1bb0cb381": {
     "model_module": "@jupyter-widgets/controls",
     "model_name": "DescriptionStyleModel",
     "model_module_version": "1.5.0",
     "state": {
      "_model_module": "@jupyter-widgets/controls",
      "_model_module_version": "1.5.0",
      "_model_name": "DescriptionStyleModel",
      "_view_count": null,
      "_view_module": "@jupyter-widgets/base",
      "_view_module_version": "1.2.0",
      "_view_name": "StyleView",
      "description_width": ""
     }
    },
    "2a1f8dc85d8841f8b671c9b40fd6a1b5": {
     "model_module": "@jupyter-widgets/controls",
     "model_name": "HBoxModel",
     "model_module_version": "1.5.0",
     "state": {
      "_dom_classes": [],
      "_model_module": "@jupyter-widgets/controls",
      "_model_module_version": "1.5.0",
      "_model_name": "HBoxModel",
      "_view_count": null,
      "_view_module": "@jupyter-widgets/controls",
      "_view_module_version": "1.5.0",
      "_view_name": "HBoxView",
      "box_style": "",
      "children": [
       "IPY_MODEL_fe6ee9bf48b94bb89a94e1245556a247",
       "IPY_MODEL_e613fd05ba294fe48ea9fafa32a5c76b",
       "IPY_MODEL_81caf396cb2048f7a242a993b65dc844"
      ],
      "layout": "IPY_MODEL_3e3ca4bf219f41c28e1eded747fbad0a"
     }
    },
    "fe6ee9bf48b94bb89a94e1245556a247": {
     "model_module": "@jupyter-widgets/controls",
     "model_name": "HTMLModel",
     "model_module_version": "1.5.0",
     "state": {
      "_dom_classes": [],
      "_model_module": "@jupyter-widgets/controls",
      "_model_module_version": "1.5.0",
      "_model_name": "HTMLModel",
      "_view_count": null,
      "_view_module": "@jupyter-widgets/controls",
      "_view_module_version": "1.5.0",
      "_view_name": "HTMLView",
      "description": "",
      "description_tooltip": null,
      "layout": "IPY_MODEL_41faf822bf8b4823a806f51bb5fdf693",
      "placeholder": "​",
      "style": "IPY_MODEL_ec5db1de75244a98a64c45b94f26b41f",
      "value": "Downloading: 100%"
     }
    },
    "e613fd05ba294fe48ea9fafa32a5c76b": {
     "model_module": "@jupyter-widgets/controls",
     "model_name": "FloatProgressModel",
     "model_module_version": "1.5.0",
     "state": {
      "_dom_classes": [],
      "_model_module": "@jupyter-widgets/controls",
      "_model_module_version": "1.5.0",
      "_model_name": "FloatProgressModel",
      "_view_count": null,
      "_view_module": "@jupyter-widgets/controls",
      "_view_module_version": "1.5.0",
      "_view_name": "ProgressView",
      "bar_style": "success",
      "description": "",
      "description_tooltip": null,
      "layout": "IPY_MODEL_c27d859227484dc4aa636603df898c67",
      "max": 1115590446,
      "min": 0,
      "orientation": "horizontal",
      "style": "IPY_MODEL_189068f661744f28aa7aa6dce1631da0",
      "value": 1115590446
     }
    },
    "81caf396cb2048f7a242a993b65dc844": {
     "model_module": "@jupyter-widgets/controls",
     "model_name": "HTMLModel",
     "model_module_version": "1.5.0",
     "state": {
      "_dom_classes": [],
      "_model_module": "@jupyter-widgets/controls",
      "_model_module_version": "1.5.0",
      "_model_name": "HTMLModel",
      "_view_count": null,
      "_view_module": "@jupyter-widgets/controls",
      "_view_module_version": "1.5.0",
      "_view_name": "HTMLView",
      "description": "",
      "description_tooltip": null,
      "layout": "IPY_MODEL_164b173b21224566991a732737823476",
      "placeholder": "​",
      "style": "IPY_MODEL_bbf450b549244c739d49550e098b1520",
      "value": " 1.04G/1.04G [00:18&lt;00:00, 59.8MB/s]"
     }
    },
    "3e3ca4bf219f41c28e1eded747fbad0a": {
     "model_module": "@jupyter-widgets/base",
     "model_name": "LayoutModel",
     "model_module_version": "1.2.0",
     "state": {
      "_model_module": "@jupyter-widgets/base",
      "_model_module_version": "1.2.0",
      "_model_name": "LayoutModel",
      "_view_count": null,
      "_view_module": "@jupyter-widgets/base",
      "_view_module_version": "1.2.0",
      "_view_name": "LayoutView",
      "align_content": null,
      "align_items": null,
      "align_self": null,
      "border": null,
      "bottom": null,
      "display": null,
      "flex": null,
      "flex_flow": null,
      "grid_area": null,
      "grid_auto_columns": null,
      "grid_auto_flow": null,
      "grid_auto_rows": null,
      "grid_column": null,
      "grid_gap": null,
      "grid_row": null,
      "grid_template_areas": null,
      "grid_template_columns": null,
      "grid_template_rows": null,
      "height": null,
      "justify_content": null,
      "justify_items": null,
      "left": null,
      "margin": null,
      "max_height": null,
      "max_width": null,
      "min_height": null,
      "min_width": null,
      "object_fit": null,
      "object_position": null,
      "order": null,
      "overflow": null,
      "overflow_x": null,
      "overflow_y": null,
      "padding": null,
      "right": null,
      "top": null,
      "visibility": null,
      "width": null
     }
    },
    "41faf822bf8b4823a806f51bb5fdf693": {
     "model_module": "@jupyter-widgets/base",
     "model_name": "LayoutModel",
     "model_module_version": "1.2.0",
     "state": {
      "_model_module": "@jupyter-widgets/base",
      "_model_module_version": "1.2.0",
      "_model_name": "LayoutModel",
      "_view_count": null,
      "_view_module": "@jupyter-widgets/base",
      "_view_module_version": "1.2.0",
      "_view_name": "LayoutView",
      "align_content": null,
      "align_items": null,
      "align_self": null,
      "border": null,
      "bottom": null,
      "display": null,
      "flex": null,
      "flex_flow": null,
      "grid_area": null,
      "grid_auto_columns": null,
      "grid_auto_flow": null,
      "grid_auto_rows": null,
      "grid_column": null,
      "grid_gap": null,
      "grid_row": null,
      "grid_template_areas": null,
      "grid_template_columns": null,
      "grid_template_rows": null,
      "height": null,
      "justify_content": null,
      "justify_items": null,
      "left": null,
      "margin": null,
      "max_height": null,
      "max_width": null,
      "min_height": null,
      "min_width": null,
      "object_fit": null,
      "object_position": null,
      "order": null,
      "overflow": null,
      "overflow_x": null,
      "overflow_y": null,
      "padding": null,
      "right": null,
      "top": null,
      "visibility": null,
      "width": null
     }
    },
    "ec5db1de75244a98a64c45b94f26b41f": {
     "model_module": "@jupyter-widgets/controls",
     "model_name": "DescriptionStyleModel",
     "model_module_version": "1.5.0",
     "state": {
      "_model_module": "@jupyter-widgets/controls",
      "_model_module_version": "1.5.0",
      "_model_name": "DescriptionStyleModel",
      "_view_count": null,
      "_view_module": "@jupyter-widgets/base",
      "_view_module_version": "1.2.0",
      "_view_name": "StyleView",
      "description_width": ""
     }
    },
    "c27d859227484dc4aa636603df898c67": {
     "model_module": "@jupyter-widgets/base",
     "model_name": "LayoutModel",
     "model_module_version": "1.2.0",
     "state": {
      "_model_module": "@jupyter-widgets/base",
      "_model_module_version": "1.2.0",
      "_model_name": "LayoutModel",
      "_view_count": null,
      "_view_module": "@jupyter-widgets/base",
      "_view_module_version": "1.2.0",
      "_view_name": "LayoutView",
      "align_content": null,
      "align_items": null,
      "align_self": null,
      "border": null,
      "bottom": null,
      "display": null,
      "flex": null,
      "flex_flow": null,
      "grid_area": null,
      "grid_auto_columns": null,
      "grid_auto_flow": null,
      "grid_auto_rows": null,
      "grid_column": null,
      "grid_gap": null,
      "grid_row": null,
      "grid_template_areas": null,
      "grid_template_columns": null,
      "grid_template_rows": null,
      "height": null,
      "justify_content": null,
      "justify_items": null,
      "left": null,
      "margin": null,
      "max_height": null,
      "max_width": null,
      "min_height": null,
      "min_width": null,
      "object_fit": null,
      "object_position": null,
      "order": null,
      "overflow": null,
      "overflow_x": null,
      "overflow_y": null,
      "padding": null,
      "right": null,
      "top": null,
      "visibility": null,
      "width": null
     }
    },
    "189068f661744f28aa7aa6dce1631da0": {
     "model_module": "@jupyter-widgets/controls",
     "model_name": "ProgressStyleModel",
     "model_module_version": "1.5.0",
     "state": {
      "_model_module": "@jupyter-widgets/controls",
      "_model_module_version": "1.5.0",
      "_model_name": "ProgressStyleModel",
      "_view_count": null,
      "_view_module": "@jupyter-widgets/base",
      "_view_module_version": "1.2.0",
      "_view_name": "StyleView",
      "bar_color": null,
      "description_width": ""
     }
    },
    "164b173b21224566991a732737823476": {
     "model_module": "@jupyter-widgets/base",
     "model_name": "LayoutModel",
     "model_module_version": "1.2.0",
     "state": {
      "_model_module": "@jupyter-widgets/base",
      "_model_module_version": "1.2.0",
      "_model_name": "LayoutModel",
      "_view_count": null,
      "_view_module": "@jupyter-widgets/base",
      "_view_module_version": "1.2.0",
      "_view_name": "LayoutView",
      "align_content": null,
      "align_items": null,
      "align_self": null,
      "border": null,
      "bottom": null,
      "display": null,
      "flex": null,
      "flex_flow": null,
      "grid_area": null,
      "grid_auto_columns": null,
      "grid_auto_flow": null,
      "grid_auto_rows": null,
      "grid_column": null,
      "grid_gap": null,
      "grid_row": null,
      "grid_template_areas": null,
      "grid_template_columns": null,
      "grid_template_rows": null,
      "height": null,
      "justify_content": null,
      "justify_items": null,
      "left": null,
      "margin": null,
      "max_height": null,
      "max_width": null,
      "min_height": null,
      "min_width": null,
      "object_fit": null,
      "object_position": null,
      "order": null,
      "overflow": null,
      "overflow_x": null,
      "overflow_y": null,
      "padding": null,
      "right": null,
      "top": null,
      "visibility": null,
      "width": null
     }
    },
    "bbf450b549244c739d49550e098b1520": {
     "model_module": "@jupyter-widgets/controls",
     "model_name": "DescriptionStyleModel",
     "model_module_version": "1.5.0",
     "state": {
      "_model_module": "@jupyter-widgets/controls",
      "_model_module_version": "1.5.0",
      "_model_name": "DescriptionStyleModel",
      "_view_count": null,
      "_view_module": "@jupyter-widgets/base",
      "_view_module_version": "1.2.0",
      "_view_name": "StyleView",
      "description_width": ""
     }
    },
    "64d7952233684bcab711468569c4eda3": {
     "model_module": "@jupyter-widgets/controls",
     "model_name": "HBoxModel",
     "model_module_version": "1.5.0",
     "state": {
      "_dom_classes": [],
      "_model_module": "@jupyter-widgets/controls",
      "_model_module_version": "1.5.0",
      "_model_name": "HBoxModel",
      "_view_count": null,
      "_view_module": "@jupyter-widgets/controls",
      "_view_module_version": "1.5.0",
      "_view_name": "HBoxView",
      "box_style": "",
      "children": [
       "IPY_MODEL_10bf9a2e2b314440bfe294ed36766408",
       "IPY_MODEL_bd2d47cda2fe478ebd90240b24cfbfb4",
       "IPY_MODEL_d25641d106d14d52ad95d4f1c4a71c20"
      ],
      "layout": "IPY_MODEL_82dad16a0f5f4beb855aadc7046bf204"
     }
    },
    "10bf9a2e2b314440bfe294ed36766408": {
     "model_module": "@jupyter-widgets/controls",
     "model_name": "HTMLModel",
     "model_module_version": "1.5.0",
     "state": {
      "_dom_classes": [],
      "_model_module": "@jupyter-widgets/controls",
      "_model_module_version": "1.5.0",
      "_model_name": "HTMLModel",
      "_view_count": null,
      "_view_module": "@jupyter-widgets/controls",
      "_view_module_version": "1.5.0",
      "_view_name": "HTMLView",
      "description": "",
      "description_tooltip": null,
      "layout": "IPY_MODEL_851f7ef12bc04f5cbd64cc6793097c42",
      "placeholder": "​",
      "style": "IPY_MODEL_3f05afc4420e40fd8c5dc092ca5a530a",
      "value": "Downloading: 100%"
     }
    },
    "bd2d47cda2fe478ebd90240b24cfbfb4": {
     "model_module": "@jupyter-widgets/controls",
     "model_name": "FloatProgressModel",
     "model_module_version": "1.5.0",
     "state": {
      "_dom_classes": [],
      "_model_module": "@jupyter-widgets/controls",
      "_model_module_version": "1.5.0",
      "_model_name": "FloatProgressModel",
      "_view_count": null,
      "_view_module": "@jupyter-widgets/controls",
      "_view_module_version": "1.5.0",
      "_view_name": "ProgressView",
      "bar_style": "success",
      "description": "",
      "description_tooltip": null,
      "layout": "IPY_MODEL_37b8fbad42b14904a8a27edb393a09c3",
      "max": 5069051,
      "min": 0,
      "orientation": "horizontal",
      "style": "IPY_MODEL_fdbdea636a9343ba9225aa884685a121",
      "value": 5069051
     }
    },
    "d25641d106d14d52ad95d4f1c4a71c20": {
     "model_module": "@jupyter-widgets/controls",
     "model_name": "HTMLModel",
     "model_module_version": "1.5.0",
     "state": {
      "_dom_classes": [],
      "_model_module": "@jupyter-widgets/controls",
      "_model_module_version": "1.5.0",
      "_model_name": "HTMLModel",
      "_view_count": null,
      "_view_module": "@jupyter-widgets/controls",
      "_view_module_version": "1.5.0",
      "_view_name": "HTMLView",
      "description": "",
      "description_tooltip": null,
      "layout": "IPY_MODEL_2b4bd47fcd20498aa53457ba28fbd1d9",
      "placeholder": "​",
      "style": "IPY_MODEL_5636fb26ea5b4029bcf711669b3afd16",
      "value": " 4.83M/4.83M [00:00&lt;00:00, 10.6MB/s]"
     }
    },
    "82dad16a0f5f4beb855aadc7046bf204": {
     "model_module": "@jupyter-widgets/base",
     "model_name": "LayoutModel",
     "model_module_version": "1.2.0",
     "state": {
      "_model_module": "@jupyter-widgets/base",
      "_model_module_version": "1.2.0",
      "_model_name": "LayoutModel",
      "_view_count": null,
      "_view_module": "@jupyter-widgets/base",
      "_view_module_version": "1.2.0",
      "_view_name": "LayoutView",
      "align_content": null,
      "align_items": null,
      "align_self": null,
      "border": null,
      "bottom": null,
      "display": null,
      "flex": null,
      "flex_flow": null,
      "grid_area": null,
      "grid_auto_columns": null,
      "grid_auto_flow": null,
      "grid_auto_rows": null,
      "grid_column": null,
      "grid_gap": null,
      "grid_row": null,
      "grid_template_areas": null,
      "grid_template_columns": null,
      "grid_template_rows": null,
      "height": null,
      "justify_content": null,
      "justify_items": null,
      "left": null,
      "margin": null,
      "max_height": null,
      "max_width": null,
      "min_height": null,
      "min_width": null,
      "object_fit": null,
      "object_position": null,
      "order": null,
      "overflow": null,
      "overflow_x": null,
      "overflow_y": null,
      "padding": null,
      "right": null,
      "top": null,
      "visibility": null,
      "width": null
     }
    },
    "851f7ef12bc04f5cbd64cc6793097c42": {
     "model_module": "@jupyter-widgets/base",
     "model_name": "LayoutModel",
     "model_module_version": "1.2.0",
     "state": {
      "_model_module": "@jupyter-widgets/base",
      "_model_module_version": "1.2.0",
      "_model_name": "LayoutModel",
      "_view_count": null,
      "_view_module": "@jupyter-widgets/base",
      "_view_module_version": "1.2.0",
      "_view_name": "LayoutView",
      "align_content": null,
      "align_items": null,
      "align_self": null,
      "border": null,
      "bottom": null,
      "display": null,
      "flex": null,
      "flex_flow": null,
      "grid_area": null,
      "grid_auto_columns": null,
      "grid_auto_flow": null,
      "grid_auto_rows": null,
      "grid_column": null,
      "grid_gap": null,
      "grid_row": null,
      "grid_template_areas": null,
      "grid_template_columns": null,
      "grid_template_rows": null,
      "height": null,
      "justify_content": null,
      "justify_items": null,
      "left": null,
      "margin": null,
      "max_height": null,
      "max_width": null,
      "min_height": null,
      "min_width": null,
      "object_fit": null,
      "object_position": null,
      "order": null,
      "overflow": null,
      "overflow_x": null,
      "overflow_y": null,
      "padding": null,
      "right": null,
      "top": null,
      "visibility": null,
      "width": null
     }
    },
    "3f05afc4420e40fd8c5dc092ca5a530a": {
     "model_module": "@jupyter-widgets/controls",
     "model_name": "DescriptionStyleModel",
     "model_module_version": "1.5.0",
     "state": {
      "_model_module": "@jupyter-widgets/controls",
      "_model_module_version": "1.5.0",
      "_model_name": "DescriptionStyleModel",
      "_view_count": null,
      "_view_module": "@jupyter-widgets/base",
      "_view_module_version": "1.2.0",
      "_view_name": "StyleView",
      "description_width": ""
     }
    },
    "37b8fbad42b14904a8a27edb393a09c3": {
     "model_module": "@jupyter-widgets/base",
     "model_name": "LayoutModel",
     "model_module_version": "1.2.0",
     "state": {
      "_model_module": "@jupyter-widgets/base",
      "_model_module_version": "1.2.0",
      "_model_name": "LayoutModel",
      "_view_count": null,
      "_view_module": "@jupyter-widgets/base",
      "_view_module_version": "1.2.0",
      "_view_name": "LayoutView",
      "align_content": null,
      "align_items": null,
      "align_self": null,
      "border": null,
      "bottom": null,
      "display": null,
      "flex": null,
      "flex_flow": null,
      "grid_area": null,
      "grid_auto_columns": null,
      "grid_auto_flow": null,
      "grid_auto_rows": null,
      "grid_column": null,
      "grid_gap": null,
      "grid_row": null,
      "grid_template_areas": null,
      "grid_template_columns": null,
      "grid_template_rows": null,
      "height": null,
      "justify_content": null,
      "justify_items": null,
      "left": null,
      "margin": null,
      "max_height": null,
      "max_width": null,
      "min_height": null,
      "min_width": null,
      "object_fit": null,
      "object_position": null,
      "order": null,
      "overflow": null,
      "overflow_x": null,
      "overflow_y": null,
      "padding": null,
      "right": null,
      "top": null,
      "visibility": null,
      "width": null
     }
    },
    "fdbdea636a9343ba9225aa884685a121": {
     "model_module": "@jupyter-widgets/controls",
     "model_name": "ProgressStyleModel",
     "model_module_version": "1.5.0",
     "state": {
      "_model_module": "@jupyter-widgets/controls",
      "_model_module_version": "1.5.0",
      "_model_name": "ProgressStyleModel",
      "_view_count": null,
      "_view_module": "@jupyter-widgets/base",
      "_view_module_version": "1.2.0",
      "_view_name": "StyleView",
      "bar_color": null,
      "description_width": ""
     }
    },
    "2b4bd47fcd20498aa53457ba28fbd1d9": {
     "model_module": "@jupyter-widgets/base",
     "model_name": "LayoutModel",
     "model_module_version": "1.2.0",
     "state": {
      "_model_module": "@jupyter-widgets/base",
      "_model_module_version": "1.2.0",
      "_model_name": "LayoutModel",
      "_view_count": null,
      "_view_module": "@jupyter-widgets/base",
      "_view_module_version": "1.2.0",
      "_view_name": "LayoutView",
      "align_content": null,
      "align_items": null,
      "align_self": null,
      "border": null,
      "bottom": null,
      "display": null,
      "flex": null,
      "flex_flow": null,
      "grid_area": null,
      "grid_auto_columns": null,
      "grid_auto_flow": null,
      "grid_auto_rows": null,
      "grid_column": null,
      "grid_gap": null,
      "grid_row": null,
      "grid_template_areas": null,
      "grid_template_columns": null,
      "grid_template_rows": null,
      "height": null,
      "justify_content": null,
      "justify_items": null,
      "left": null,
      "margin": null,
      "max_height": null,
      "max_width": null,
      "min_height": null,
      "min_width": null,
      "object_fit": null,
      "object_position": null,
      "order": null,
      "overflow": null,
      "overflow_x": null,
      "overflow_y": null,
      "padding": null,
      "right": null,
      "top": null,
      "visibility": null,
      "width": null
     }
    },
    "5636fb26ea5b4029bcf711669b3afd16": {
     "model_module": "@jupyter-widgets/controls",
     "model_name": "DescriptionStyleModel",
     "model_module_version": "1.5.0",
     "state": {
      "_model_module": "@jupyter-widgets/controls",
      "_model_module_version": "1.5.0",
      "_model_name": "DescriptionStyleModel",
      "_view_count": null,
      "_view_module": "@jupyter-widgets/base",
      "_view_module_version": "1.2.0",
      "_view_name": "StyleView",
      "description_width": ""
     }
    },
    "77ec73d6a50a4628ac56fb531b6754bd": {
     "model_module": "@jupyter-widgets/controls",
     "model_name": "HBoxModel",
     "model_module_version": "1.5.0",
     "state": {
      "_dom_classes": [],
      "_model_module": "@jupyter-widgets/controls",
      "_model_module_version": "1.5.0",
      "_model_name": "HBoxModel",
      "_view_count": null,
      "_view_module": "@jupyter-widgets/controls",
      "_view_module_version": "1.5.0",
      "_view_name": "HBoxView",
      "box_style": "",
      "children": [
       "IPY_MODEL_58a42b62fc184b38bfb8f9d85af2bb82",
       "IPY_MODEL_daeff519e14c486199efc3a05a4c4388",
       "IPY_MODEL_7a3f2f4a5815461aac5459c4e173ccdf"
      ],
      "layout": "IPY_MODEL_099ffafce0cc4268a805bf1df0a61196"
     }
    },
    "58a42b62fc184b38bfb8f9d85af2bb82": {
     "model_module": "@jupyter-widgets/controls",
     "model_name": "HTMLModel",
     "model_module_version": "1.5.0",
     "state": {
      "_dom_classes": [],
      "_model_module": "@jupyter-widgets/controls",
      "_model_module_version": "1.5.0",
      "_model_name": "HTMLModel",
      "_view_count": null,
      "_view_module": "@jupyter-widgets/controls",
      "_view_module_version": "1.5.0",
      "_view_name": "HTMLView",
      "description": "",
      "description_tooltip": null,
      "layout": "IPY_MODEL_2bee4e32d65a41f4b462ebfaf9cc474d",
      "placeholder": "​",
      "style": "IPY_MODEL_f86f2560adf6489e96a2345092c0e943",
      "value": "Downloading: 100%"
     }
    },
    "daeff519e14c486199efc3a05a4c4388": {
     "model_module": "@jupyter-widgets/controls",
     "model_name": "FloatProgressModel",
     "model_module_version": "1.5.0",
     "state": {
      "_dom_classes": [],
      "_model_module": "@jupyter-widgets/controls",
      "_model_module_version": "1.5.0",
      "_model_name": "FloatProgressModel",
      "_view_count": null,
      "_view_module": "@jupyter-widgets/controls",
      "_view_module_version": "1.5.0",
      "_view_name": "ProgressView",
      "bar_style": "success",
      "description": "",
      "description_tooltip": null,
      "layout": "IPY_MODEL_630ef427c6df4a6199af59445fe3f4f9",
      "max": 9096718,
      "min": 0,
      "orientation": "horizontal",
      "style": "IPY_MODEL_316746e1006442599ca50de401e3e82a",
      "value": 9096718
     }
    },
    "7a3f2f4a5815461aac5459c4e173ccdf": {
     "model_module": "@jupyter-widgets/controls",
     "model_name": "HTMLModel",
     "model_module_version": "1.5.0",
     "state": {
      "_dom_classes": [],
      "_model_module": "@jupyter-widgets/controls",
      "_model_module_version": "1.5.0",
      "_model_name": "HTMLModel",
      "_view_count": null,
      "_view_module": "@jupyter-widgets/controls",
      "_view_module_version": "1.5.0",
      "_view_name": "HTMLView",
      "description": "",
      "description_tooltip": null,
      "layout": "IPY_MODEL_df638c3f088d450a8c91888830c2e7bc",
      "placeholder": "​",
      "style": "IPY_MODEL_f5827842c8ab4585ace3d425dee9fddf",
      "value": " 8.68M/8.68M [00:00&lt;00:00, 19.0MB/s]"
     }
    },
    "099ffafce0cc4268a805bf1df0a61196": {
     "model_module": "@jupyter-widgets/base",
     "model_name": "LayoutModel",
     "model_module_version": "1.2.0",
     "state": {
      "_model_module": "@jupyter-widgets/base",
      "_model_module_version": "1.2.0",
      "_model_name": "LayoutModel",
      "_view_count": null,
      "_view_module": "@jupyter-widgets/base",
      "_view_module_version": "1.2.0",
      "_view_name": "LayoutView",
      "align_content": null,
      "align_items": null,
      "align_self": null,
      "border": null,
      "bottom": null,
      "display": null,
      "flex": null,
      "flex_flow": null,
      "grid_area": null,
      "grid_auto_columns": null,
      "grid_auto_flow": null,
      "grid_auto_rows": null,
      "grid_column": null,
      "grid_gap": null,
      "grid_row": null,
      "grid_template_areas": null,
      "grid_template_columns": null,
      "grid_template_rows": null,
      "height": null,
      "justify_content": null,
      "justify_items": null,
      "left": null,
      "margin": null,
      "max_height": null,
      "max_width": null,
      "min_height": null,
      "min_width": null,
      "object_fit": null,
      "object_position": null,
      "order": null,
      "overflow": null,
      "overflow_x": null,
      "overflow_y": null,
      "padding": null,
      "right": null,
      "top": null,
      "visibility": null,
      "width": null
     }
    },
    "2bee4e32d65a41f4b462ebfaf9cc474d": {
     "model_module": "@jupyter-widgets/base",
     "model_name": "LayoutModel",
     "model_module_version": "1.2.0",
     "state": {
      "_model_module": "@jupyter-widgets/base",
      "_model_module_version": "1.2.0",
      "_model_name": "LayoutModel",
      "_view_count": null,
      "_view_module": "@jupyter-widgets/base",
      "_view_module_version": "1.2.0",
      "_view_name": "LayoutView",
      "align_content": null,
      "align_items": null,
      "align_self": null,
      "border": null,
      "bottom": null,
      "display": null,
      "flex": null,
      "flex_flow": null,
      "grid_area": null,
      "grid_auto_columns": null,
      "grid_auto_flow": null,
      "grid_auto_rows": null,
      "grid_column": null,
      "grid_gap": null,
      "grid_row": null,
      "grid_template_areas": null,
      "grid_template_columns": null,
      "grid_template_rows": null,
      "height": null,
      "justify_content": null,
      "justify_items": null,
      "left": null,
      "margin": null,
      "max_height": null,
      "max_width": null,
      "min_height": null,
      "min_width": null,
      "object_fit": null,
      "object_position": null,
      "order": null,
      "overflow": null,
      "overflow_x": null,
      "overflow_y": null,
      "padding": null,
      "right": null,
      "top": null,
      "visibility": null,
      "width": null
     }
    },
    "f86f2560adf6489e96a2345092c0e943": {
     "model_module": "@jupyter-widgets/controls",
     "model_name": "DescriptionStyleModel",
     "model_module_version": "1.5.0",
     "state": {
      "_model_module": "@jupyter-widgets/controls",
      "_model_module_version": "1.5.0",
      "_model_name": "DescriptionStyleModel",
      "_view_count": null,
      "_view_module": "@jupyter-widgets/base",
      "_view_module_version": "1.2.0",
      "_view_name": "StyleView",
      "description_width": ""
     }
    },
    "630ef427c6df4a6199af59445fe3f4f9": {
     "model_module": "@jupyter-widgets/base",
     "model_name": "LayoutModel",
     "model_module_version": "1.2.0",
     "state": {
      "_model_module": "@jupyter-widgets/base",
      "_model_module_version": "1.2.0",
      "_model_name": "LayoutModel",
      "_view_count": null,
      "_view_module": "@jupyter-widgets/base",
      "_view_module_version": "1.2.0",
      "_view_name": "LayoutView",
      "align_content": null,
      "align_items": null,
      "align_self": null,
      "border": null,
      "bottom": null,
      "display": null,
      "flex": null,
      "flex_flow": null,
      "grid_area": null,
      "grid_auto_columns": null,
      "grid_auto_flow": null,
      "grid_auto_rows": null,
      "grid_column": null,
      "grid_gap": null,
      "grid_row": null,
      "grid_template_areas": null,
      "grid_template_columns": null,
      "grid_template_rows": null,
      "height": null,
      "justify_content": null,
      "justify_items": null,
      "left": null,
      "margin": null,
      "max_height": null,
      "max_width": null,
      "min_height": null,
      "min_width": null,
      "object_fit": null,
      "object_position": null,
      "order": null,
      "overflow": null,
      "overflow_x": null,
      "overflow_y": null,
      "padding": null,
      "right": null,
      "top": null,
      "visibility": null,
      "width": null
     }
    },
    "316746e1006442599ca50de401e3e82a": {
     "model_module": "@jupyter-widgets/controls",
     "model_name": "ProgressStyleModel",
     "model_module_version": "1.5.0",
     "state": {
      "_model_module": "@jupyter-widgets/controls",
      "_model_module_version": "1.5.0",
      "_model_name": "ProgressStyleModel",
      "_view_count": null,
      "_view_module": "@jupyter-widgets/base",
      "_view_module_version": "1.2.0",
      "_view_name": "StyleView",
      "bar_color": null,
      "description_width": ""
     }
    },
    "df638c3f088d450a8c91888830c2e7bc": {
     "model_module": "@jupyter-widgets/base",
     "model_name": "LayoutModel",
     "model_module_version": "1.2.0",
     "state": {
      "_model_module": "@jupyter-widgets/base",
      "_model_module_version": "1.2.0",
      "_model_name": "LayoutModel",
      "_view_count": null,
      "_view_module": "@jupyter-widgets/base",
      "_view_module_version": "1.2.0",
      "_view_name": "LayoutView",
      "align_content": null,
      "align_items": null,
      "align_self": null,
      "border": null,
      "bottom": null,
      "display": null,
      "flex": null,
      "flex_flow": null,
      "grid_area": null,
      "grid_auto_columns": null,
      "grid_auto_flow": null,
      "grid_auto_rows": null,
      "grid_column": null,
      "grid_gap": null,
      "grid_row": null,
      "grid_template_areas": null,
      "grid_template_columns": null,
      "grid_template_rows": null,
      "height": null,
      "justify_content": null,
      "justify_items": null,
      "left": null,
      "margin": null,
      "max_height": null,
      "max_width": null,
      "min_height": null,
      "min_width": null,
      "object_fit": null,
      "object_position": null,
      "order": null,
      "overflow": null,
      "overflow_x": null,
      "overflow_y": null,
      "padding": null,
      "right": null,
      "top": null,
      "visibility": null,
      "width": null
     }
    },
    "f5827842c8ab4585ace3d425dee9fddf": {
     "model_module": "@jupyter-widgets/controls",
     "model_name": "DescriptionStyleModel",
     "model_module_version": "1.5.0",
     "state": {
      "_model_module": "@jupyter-widgets/controls",
      "_model_module_version": "1.5.0",
      "_model_name": "DescriptionStyleModel",
      "_view_count": null,
      "_view_module": "@jupyter-widgets/base",
      "_view_module_version": "1.2.0",
      "_view_name": "StyleView",
      "description_width": ""
     }
    }
   }
  }
 },
 "nbformat": 4,
 "nbformat_minor": 0
}